{
 "cells": [
  {
   "cell_type": "code",
   "execution_count": 1,
   "metadata": {},
   "outputs": [
    {
     "name": "stdout",
     "output_type": "stream",
     "text": [
      "1\n"
     ]
    }
   ],
   "source": [
    "print(1)"
   ]
  },
  {
   "cell_type": "code",
   "execution_count": 2,
   "metadata": {},
   "outputs": [],
   "source": [
    "import requests\n",
    "from pprint import pprint\n",
    "from github import Github\n"
   ]
  },
  {
   "cell_type": "code",
   "execution_count": 3,
   "metadata": {},
   "outputs": [],
   "source": [
    "import pandas as pd"
   ]
  },
  {
   "cell_type": "code",
   "execution_count": 4,
   "metadata": {},
   "outputs": [],
   "source": [
    "# Initialize API key-personal access token\n",
    "token = 'github_token'\n",
    "\n",
    "headers = {\n",
    "    'Authorization': f'token {token}',\n",
    "    'Accept': 'application/vnd.github.v3+json'}"
   ]
  },
  {
   "cell_type": "code",
   "execution_count": 8,
   "metadata": {},
   "outputs": [
    {
     "name": "stdout",
     "output_type": "stream",
     "text": [
      "{'avatar_url': 'https://avatars.githubusercontent.com/u/155430849?v=4',\n",
      " 'bio': 'Aspirant Data Scientist',\n",
      " 'blog': '',\n",
      " 'company': None,\n",
      " 'created_at': '2024-01-02T08:50:24Z',\n",
      " 'email': None,\n",
      " 'events_url': 'https://api.github.com/users/Lakshminatarajan06/events{/privacy}',\n",
      " 'followers': 0,\n",
      " 'followers_url': 'https://api.github.com/users/Lakshminatarajan06/followers',\n",
      " 'following': 1,\n",
      " 'following_url': 'https://api.github.com/users/Lakshminatarajan06/following{/other_user}',\n",
      " 'gists_url': 'https://api.github.com/users/Lakshminatarajan06/gists{/gist_id}',\n",
      " 'gravatar_id': '',\n",
      " 'hireable': None,\n",
      " 'html_url': 'https://github.com/Lakshminatarajan06',\n",
      " 'id': 155430849,\n",
      " 'location': None,\n",
      " 'login': 'Lakshminatarajan06',\n",
      " 'name': 'Natarajan',\n",
      " 'node_id': 'U_kgDOCUOvwQ',\n",
      " 'notification_email': None,\n",
      " 'organizations_url': 'https://api.github.com/users/Lakshminatarajan06/orgs',\n",
      " 'public_gists': 0,\n",
      " 'public_repos': 12,\n",
      " 'received_events_url': 'https://api.github.com/users/Lakshminatarajan06/received_events',\n",
      " 'repos_url': 'https://api.github.com/users/Lakshminatarajan06/repos',\n",
      " 'site_admin': False,\n",
      " 'starred_url': 'https://api.github.com/users/Lakshminatarajan06/starred{/owner}{/repo}',\n",
      " 'subscriptions_url': 'https://api.github.com/users/Lakshminatarajan06/subscriptions',\n",
      " 'twitter_username': None,\n",
      " 'type': 'User',\n",
      " 'updated_at': '2024-10-01T19:10:49Z',\n",
      " 'url': 'https://api.github.com/users/Lakshminatarajan06'}\n"
     ]
    }
   ],
   "source": [
    "# API request to get user information\n",
    "response = requests.get('https://api.github.com/user', headers=headers)\n",
    "\n",
    "if response.status_code == 200:\n",
    "    pprint(response.json())\n",
    "else:\n",
    "    pprint(f\"Failed to fetch data: {response.status_code}\")"
   ]
  },
  {
   "cell_type": "code",
   "execution_count": 5,
   "metadata": {},
   "outputs": [],
   "source": [
    "# GitHub personal access token\n",
    "g = Github(token)\n",
    "\n"
   ]
  },
  {
   "cell_type": "code",
   "execution_count": 11,
   "metadata": {},
   "outputs": [
    {
     "name": "stderr",
     "output_type": "stream",
     "text": [
      "Request GET /search/repositories?q=machine+learning+OR+artificial+intelligence+OR+deep+learning&page=20 failed with 403: Forbidden\n",
      "Setting next backoff to 60s\n"
     ]
    }
   ],
   "source": [
    "# List of smaller queries (up to 5 logical operators each)\n",
    "queries = [\n",
    "    \"machine learning OR artificial intelligence OR deep learning\",\n",
    "    \"NLP OR AI OR ML OR data science\", \"data science\"\n",
    "]\n",
    "\n",
    "# Set up to store unique repositories (avoid duplicates)\n",
    "unique_repos = set()\n",
    "\n",
    "repos_name=[]\n",
    "repos_owner=[]\n",
    "repos_url=[]\n",
    "repos_description=[]\n",
    "repos_star=[]\n",
    "repos_forks=[]\n",
    "repos_language=[]\n",
    "repos_created=[]\n",
    "repos_update=[]\n",
    "repos_issues=[]\n",
    "\n",
    "# Iterate through the queries\n",
    "for query in queries:\n",
    "    repos = g.search_repositories(query=query)\n",
    "    \n",
    "    # Fetch and print up to 10 repositories per query\n",
    "    for repo in repos:\n",
    "        if repo.name not in unique_repos:\n",
    "            repos_name.append(repo.name)\n",
    "            repos_url.append(repo.html_url)\n",
    "            repos_owner.append(repo.owner.login)  # Owner's username\n",
    "            repos_description.append(repo.description)\n",
    "            repos_star.append(repo.stargazers_count)\n",
    "            repos_forks.append(repo.forks_count)\n",
    "            repos_language.append(repo.language)\n",
    "            repos_created.append(repo.created_at)\n",
    "            repos_update.append(repo.updated_at)\n",
    "            repos_issues.append(repo.open_issues_count)\n",
    "            \n",
    "\n",
    "            unique_repos.add(repo.name)\n",
    "\n",
    "        # Break if we already have 10 unique repos\n",
    "        if len(unique_repos) >= 1000:\n",
    "            break\n",
    "\n",
    "    if len(unique_repos) >= 1000:\n",
    "        break"
   ]
  },
  {
   "cell_type": "code",
   "execution_count": 7,
   "metadata": {},
   "outputs": [],
   "source": [
    "import mysql.connector\n"
   ]
  },
  {
   "cell_type": "code",
   "execution_count": 8,
   "metadata": {},
   "outputs": [
    {
     "name": "stdout",
     "output_type": "stream",
     "text": [
      "<mysql.connector.connection.MySQLConnection object at 0x0000024758DCF1A0>\n"
     ]
    }
   ],
   "source": [
    "# MySQL connection setup\n",
    "mydb=mysql.connector.connect(\n",
    "    host='localhost',\n",
    "    user='root',\n",
    "    password=''\n",
    "    )\n",
    "\n",
    "print(mydb)\n",
    "\n",
    "mycursor=mydb.cursor(buffered=True)"
   ]
  },
  {
   "cell_type": "code",
   "execution_count": null,
   "metadata": {},
   "outputs": [],
   "source": [
    "mycursor.execute('CREATE DATABASE GITHUB')"
   ]
  },
  {
   "cell_type": "code",
   "execution_count": 12,
   "metadata": {},
   "outputs": [],
   "source": [
    "# mycursor.execute(\"drop table github.repository\")"
   ]
  },
  {
   "cell_type": "code",
   "execution_count": 14,
   "metadata": {},
   "outputs": [],
   "source": [
    "mycursor.execute(\"CREATE TABLE github.repository(id INT AUTO_INCREMENT PRIMARY KEY, name VARCHAR(255), owner VARCHAR(255),\\\n",
    "                 url VARCHAR(255), description TEXT, stars INT, forks INT, language VARCHAR(100),\\\n",
    "                 created_at DATETIME, updated_at DATETIME, open_issues INT)\")"
   ]
  },
  {
   "cell_type": "code",
   "execution_count": 15,
   "metadata": {},
   "outputs": [],
   "source": [
    "# sql insert query\n",
    "query=\"INSERT INTO github.repository(name, owner, url, description, stars, forks, language, created_at, updated_at, open_issues)\\\n",
    "     VALUES (%s, %s, %s, %s, %s, %s, %s, %s, %s, %s)\"\n",
    "\n",
    "# INSERT DATA IN MYSQL TABLE\n",
    "for i in range (len(repos_name)):\n",
    "    data=(repos_name[i],\n",
    "        repos_owner[i],\n",
    "        repos_url[i],\n",
    "        repos_description[i],\n",
    "        repos_star[i],\n",
    "        repos_forks[i],\n",
    "        repos_language[i],\n",
    "        repos_created[i],\n",
    "        repos_update[i],\n",
    "        repos_issues[i])\n",
    "    mycursor.execute(query,data)\n",
    "\n",
    "mydb.commit()"
   ]
  },
  {
   "cell_type": "code",
   "execution_count": null,
   "metadata": {},
   "outputs": [],
   "source": []
  },
  {
   "cell_type": "code",
   "execution_count": null,
   "metadata": {},
   "outputs": [],
   "source": []
  }
 ],
 "metadata": {
  "kernelspec": {
   "display_name": ".venv",
   "language": "python",
   "name": "python3"
  },
  "language_info": {
   "codemirror_mode": {
    "name": "ipython",
    "version": 3
   },
   "file_extension": ".py",
   "mimetype": "text/x-python",
   "name": "python",
   "nbconvert_exporter": "python",
   "pygments_lexer": "ipython3",
   "version": "3.12.5"
  }
 },
 "nbformat": 4,
 "nbformat_minor": 2
}
